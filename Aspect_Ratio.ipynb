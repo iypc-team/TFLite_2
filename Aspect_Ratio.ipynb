{
 "cells": [
  {
   "cell_type": "code",
   "execution_count": null,
   "id": "f7e202ee",
   "metadata": {},
   "outputs": [],
   "source": [
    "from __future__ import absolute_import, division\n",
    "from BashColors import C\n",
    "from CV2_Utils_2 import *\n",
    "\n",
    "import cv2, os\n",
    "import numpy as np\n",
    "from os.path import *\n",
    "# import PIL\n",
    "# from PIL import Image\n",
    "import matplotlib.pyplot as plt\n",
    "import glob\n",
    "\n",
    "contentPath=os.getcwd()\n",
    "imagePath=join(contentPath, '3b7d7d8a64.jpg')\n",
    "savePath=join(contentPath, 'tmp')\n",
    "if not exists(savePath):\n",
    "    os.makedirs(savePath)\n",
    "savePath"
   ]
  },
  {
   "cell_type": "code",
   "execution_count": null,
   "id": "9cb4f5b0",
   "metadata": {},
   "outputs": [],
   "source": [
    "globList=glob.glob('**')\n",
    "for item in globList:\n",
    "    if item.endswith('jpeg')or item.endswith('.png')or item.endswith('.jpg'):\n",
    "        print(item)"
   ]
  },
  {
   "cell_type": "code",
   "execution_count": null,
   "id": "f4d613c4",
   "metadata": {},
   "outputs": [],
   "source": [
    "def squareImage(image):\n",
    "    if image.shape[0] != image.shape[1]:\n",
    "        print(image.shape)\n",
    "        return(image)\n",
    "    else:\n",
    "        print('image is rectangular')\n",
    "        return image\n",
    "   "
   ]
  },
  {
   "cell_type": "code",
   "execution_count": null,
   "id": "231bb468",
   "metadata": {},
   "outputs": [],
   "source": [
    "def crop_square(img, size, interpolation=cv2.INTER_AREA):\n",
    "    print(f'initial shape: {img.shape}')\n",
    "    h, w = img.shape[:2]\n",
    "    min_size = np.amin([h,w])\n",
    "\n",
    "    # Centralize and crop\n",
    "    crop_img = img[int(h/2-min_size/2):int(h/2+min_size/2), int(w/2-min_size/2):int(w/2+min_size/2)]\n",
    "    resized = cv2.resize(crop_img, (size, size), interpolation=interpolation)\n",
    "    resized = cv2.resize(resized, (224, 224))\n",
    "    \n",
    "    cvu.plotShowTwoImages(img, resized, title1=img.shape, title2=resized.shape)\n",
    "\n",
    "    return resized"
   ]
  },
  {
   "cell_type": "code",
   "execution_count": null,
   "id": "f1e336ed",
   "metadata": {},
   "outputs": [],
   "source": [
    "import cv2\n",
    "imagePath=join(contentPath, '512CAB33-C2F0-4B09-9527-374FCBDA849C.jpeg')\n",
    "# imagePath=join(contentPath, '75107AD7-EBAC-4F8D-A18E-FA71FEA4D6B0.jpeg')\n",
    "# imagePath=join(contentPath, '3b7d7d8a64.jpg')\n",
    "\n",
    "img = cv2.imread(imagePath, cv2.IMREAD_COLOR)\n",
    "img = crop_square(img=img, size=540)"
   ]
  },
  {
   "cell_type": "code",
   "execution_count": null,
   "id": "91063f36",
   "metadata": {},
   "outputs": [],
   "source": [
    "print('Original Dimensions : ',img.shape)\n",
    "\n",
    "scale_percent = 200 # percent of original size\n",
    "width = int(img.shape[1] * scale_percent / 100)\n",
    "height = int(img.shape[0] * scale_percent / 100)\n",
    "dim = (width, height)\n",
    " \n",
    "# resize image\n",
    "resized = cv2.resize(img, dim, interpolation = cv2.INTER_AREA)\n",
    "\n",
    "print('Resized Dimensions : ', resized.shape)\n",
    "\n",
    "cvu.plotShowTwoImages(img, resized, title2=resized.shape)"
   ]
  },
  {
   "cell_type": "code",
   "execution_count": null,
   "id": "86383859",
   "metadata": {},
   "outputs": [],
   "source": [
    "def aspect_ratio_resize(image, width=224, height=None, inter=cv2.INTER_LINEAR_EXACT):\n",
    "    # Grab the image size and initialize dimensions\n",
    "    dim = None\n",
    "    (h, w) = image.shape[:2]\n",
    "\n",
    "    # Return original image if no need to resize\n",
    "    if width is None and height is None:\n",
    "        return image\n",
    "\n",
    "    # We are resizing height if width is none\n",
    "    if width is None:\n",
    "        # Calculate the ratio of the height and construct the dimensions\n",
    "        r = height / float(h)\n",
    "        dim = (int(w * r), height)\n",
    "    # We are resizing width if height is none\n",
    "    else:\n",
    "        # Calculate the ratio of the 0idth and construct the dimensions\n",
    "        r = width / float(w)\n",
    "        dim = (width, int(h * r))\n",
    "\n",
    "    # Return the resized image\n",
    "    resized=cv2.resize(image, dim, interpolation=inter)\n",
    "    newSavePath=join(savePath, basename(imagePath))\n",
    "    written=cv2.imwrite(newSavePath, resized)\n",
    "    if written:\n",
    "        return resized"
   ]
  },
  {
   "cell_type": "code",
   "execution_count": null,
   "id": "705e1c4b",
   "metadata": {},
   "outputs": [],
   "source": [
    "newSavePath=None\n",
    "def maintain_aspect_ratio_resize(image, width=None, height=None, inter=cv2.INTER_LINEAR_EXACT):\n",
    "    # Grab the image size and initialize dimensions\n",
    "    dim = None\n",
    "    (h, w) = image.shape[:2]\n",
    "\n",
    "    # Return original image if no need to resize\n",
    "    if width is None and height is None:\n",
    "        return image\n",
    "\n",
    "    # We are resizing height if width is none\n",
    "    if width is None:\n",
    "        # Calculate the ratio of the height and construct the dimensions\n",
    "        r = height / float(h)\n",
    "        dim = (int(w * r), height)\n",
    "    # We are resizing width if height is none\n",
    "    else:\n",
    "        # Calculate the ratio of the 0idth and construct the dimensions\n",
    "        r = width / float(w)\n",
    "        dim = (width, int(h * r))\n",
    "\n",
    "    # Return the resized image\n",
    "    resized=cv2.resize(image, dim, interpolation=inter)\n",
    "    newSavePath=join(savePath, basename(imagePath))\n",
    "    written=cv2.imwrite(newSavePath, resized)\n",
    "    if written:\n",
    "        return resized"
   ]
  },
  {
   "cell_type": "code",
   "execution_count": null,
   "id": "aea1a2f4",
   "metadata": {},
   "outputs": [],
   "source": [
    "if __name__ == '__main__':\n",
    "    image = cv2.imread(imagePath)\n",
    "    cvu.plotShowSingleImage(image, title1=image.shape)\n",
    "\n",
    "    resized = maintain_aspect_ratio_resize(image, width=224)\n",
    "    resized = cv2.resize(resized, (224,224), cv2.INTER_LINEAR_EXACT)\n",
    "    cvu.plotShowSingleImage(resized, title1=resized.shape)"
   ]
  },
  {
   "cell_type": "code",
   "execution_count": null,
   "id": "a3edeb46",
   "metadata": {},
   "outputs": [],
   "source": [
    "img=cvu.getCV2Image(imagePath)\n",
    "newSavePath = join(savePath, basename(imagePath))\n",
    "height = img.shape[0]\n",
    "width = img.shape[1]\n",
    "\n",
    "# let's say we want the new width to be 400px\n",
    "# and compute the new height based on the aspect ratio\n",
    "new_width = 224\n",
    "ratio = new_width / width # (or new_height / height)\n",
    "print(ratio)\n",
    "new_height = int(height * ratio)\n",
    "\n",
    "dimensions = (new_width, new_height)\n",
    "new_img = cv2.resize(img,dimensions,interpolation=cv2.INTER_LINEAR)\n",
    "# new_img = cv2.resize(new_img, (224,224))\n",
    "cvu.plotShowTwoImages(\n",
    "    img, new_img, title1=img.shape,title2=new_img.shape\n",
    ")\n",
    "written = cv2.imwrite(newSavePath, new_img)\n",
    "if written:\n",
    "    img=cvu.getCV2Image(newSavePath)\n",
    "    cvu.plotShowSingleImage(img, title1=img.shape)"
   ]
  },
  {
   "cell_type": "code",
   "execution_count": null,
   "id": "f4ce8d47",
   "metadata": {},
   "outputs": [],
   "source": [
    "img=cv2.imread(newSavePath)\n",
    "resizeImg=np.copy(img)\n",
    "height = resizeImg.shape[0]\n",
    "width = resizeImg.shape[1]\n",
    "print(height, 'width:', width)\n",
    "\n",
    "new_height = 224\n",
    "ratio = new_height / height # (or new_height / height)\n",
    "print(ratio)\n",
    "new_height = int(height * ratio)\n",
    "print(new_height)\n",
    "\n",
    "dimensions = (width, new_height)\n",
    "resizeImg = cv2.resize(img, (224, 224),interpolation=cv2.INTER_AREA)\n",
    "\n",
    "\n",
    "cvu.plotShowTwoImages(img, resizeImg, title2=resizeImg.shape)"
   ]
  }
 ],
 "metadata": {
  "kernelspec": {
   "display_name": "Python 3 (ipykernel)",
   "language": "python",
   "name": "python3"
  },
  "language_info": {
   "codemirror_mode": {
    "name": "ipython",
    "version": 3
   },
   "file_extension": ".py",
   "mimetype": "text/x-python",
   "name": "python",
   "nbconvert_exporter": "python",
   "pygments_lexer": "ipython3",
   "version": "3.7.12"
  }
 },
 "nbformat": 4,
 "nbformat_minor": 5
}
