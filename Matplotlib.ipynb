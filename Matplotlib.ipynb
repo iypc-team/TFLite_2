{
 "cells": [
  {
   "cell_type": "code",
   "execution_count": null,
   "id": "320cd69d",
   "metadata": {},
   "outputs": [],
   "source": [
    "from __future__ import absolute_import, division\n",
    "from IPython.display import clear_output\n",
    "from BashColors import C\n",
    "from TarfileFunctions import *\n",
    "\n",
    "from tflite_model_maker.image_classifier import DataLoader\n",
    "import matplotlib\n",
    "import matplotlib.pyplot as plt\n",
    "import matplotlib.image as mpimg\n",
    "import numpy as np\n",
    "\n",
    "import glob, json, os, shutil, sys\n",
    "os.environ['TF_CPP_MIN_LOG_LEVEL'] = '5'\n",
    "from os.path import *\n",
    "from time import perf_counter, perf_counter_ns\n",
    "\n",
    "contentPath = os.getcwd()\n",
    "genPath = join(contentPath, 'DataGenerator')\n",
    "testPath = join(contentPath, 'images')\n",
    "jsonPath = join(contentPath, 'initialGlobList.json')\n",
    "imagePath = join(contentPath, '3b7d7d8a64.jpg')\n",
    "imagePath = join(contentPath, 'Neptune.jpeg')\n",
    "\n",
    "os.chdir(genPath)\n",
    "imageGlob=glob.glob('**', recursive=True)\n",
    "print(len(imageGlob))\n",
    "os.chdir(contentPath)\n",
    "imageList=[]\n",
    "for fil in sorted(imageGlob):\n",
    "    if fil.endswith('.png'):\n",
    "        fullPath=abspath(fil)\n",
    "        # print(fullPath)\n",
    "        imageList.append(fullPath)\n",
    "        \n",
    "genImagePath=imageList[0]\n",
    "\n",
    "if not exists(genPath):\n",
    "    tff.extractTarfiles('DataGenerator5.tar.gz')\n",
    "if not exists(testPath):\n",
    "    tff.extractTarfiles('images.tar.gz')"
   ]
  },
  {
   "cell_type": "code",
   "execution_count": null,
   "id": "3620d0ef",
   "metadata": {},
   "outputs": [],
   "source": [
    "data = DataLoader.from_folder(genPath)\n",
    "\n",
    "train_data, rest_data = data.split(0.8)\n",
    "validation_data, test_data = rest_data.split(0.5)"
   ]
  },
  {
   "cell_type": "code",
   "execution_count": null,
   "id": "c13c8905",
   "metadata": {},
   "outputs": [],
   "source": [
    "plt.figure(figsize=(12,12))\n",
    "for i, (image, label) in enumerate(data.gen_dataset().unbatch().take(25)):\n",
    "    plt.subplot(5,5,i+1)\n",
    "    plt.xticks([])\n",
    "    plt.yticks([])\n",
    "    plt.grid(False)\n",
    "    plt.imshow(image.numpy(), cmap=plt.cm.gray)\n",
    "    plt.xlabel(data.index_to_label[label.numpy()])\n",
    "plt.show()"
   ]
  },
  {
   "cell_type": "code",
   "execution_count": null,
   "id": "324c0bc0",
   "metadata": {},
   "outputs": [],
   "source": [
    "# A helper function that returns 'red'/'black' depending on if its two input\n",
    "# parameter matches or not.\n",
    "def get_label_color(val1, val2):\n",
    "    if val1 == val2:\n",
    "        return 'black'\n",
    "    else:\n",
    "        return 'red'\n",
    "\n",
    "# Then plot 100 test images and their predicted labels.\n",
    "# If a prediction result is different from the label provided label in \"test\"\n",
    "# dataset, we will highlight it in red color.\n",
    "\n",
    "plt.figure(figsize=(20, 20))\n",
    "predicts = model.predict_top_k(test_data)\n",
    "for i, (image, label) in enumerate(test_data.gen_dataset().unbatch().take(4)):\n",
    "    ax = plt.subplot(10, 10, i+1)\n",
    "    plt.xticks([])\n",
    "    plt.yticks([])\n",
    "    plt.grid(False)\n",
    "    plt.imshow(image.numpy(), cmap=plt.cm.gray)\n",
    "\n",
    "    predict_label = predicts[i][0][0]\n",
    "    color = get_label_color(predict_label,\n",
    "                          test_data.index_to_label[label.numpy()])\n",
    "    ax.xaxis.label.set_color(color)\n",
    "    plt.xlabel('Predicted: %s' % predict_label)\n",
    "plt.show()"
   ]
  },
  {
   "cell_type": "code",
   "execution_count": null,
   "id": "72abf6d3",
   "metadata": {},
   "outputs": [],
   "source": [
    "img = mpimg.imread(imagePath)\n",
    "\n",
    "print(f'img.dtype: {C.BIBlue}{img.shape}{C.ColorOff}')\n",
    "\n",
    "\n",
    "# plt.show(img)"
   ]
  },
  {
   "cell_type": "code",
   "execution_count": null,
   "id": "3df46a7e",
   "metadata": {},
   "outputs": [],
   "source": [
    "help(img.astype)"
   ]
  }
 ],
 "metadata": {
  "kernelspec": {
   "display_name": "Python 3 (ipykernel)",
   "language": "python",
   "name": "python3"
  },
  "language_info": {
   "codemirror_mode": {
    "name": "ipython",
    "version": 3
   },
   "file_extension": ".py",
   "mimetype": "text/x-python",
   "name": "python",
   "nbconvert_exporter": "python",
   "pygments_lexer": "ipython3",
   "version": "3.7.12"
  }
 },
 "nbformat": 4,
 "nbformat_minor": 5
}
