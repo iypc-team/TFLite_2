{
 "cells": [
  {
   "cell_type": "code",
   "execution_count": null,
   "id": "0eee0ef1",
   "metadata": {},
   "outputs": [],
   "source": [
    "# https://www.tensorflow.org/lite/tutorials/model_maker_image_classification\n",
    "from __future__ import absolute_import, division\n",
    "from BashColors import C\n",
    "from CV2_Utils_2 import *\n",
    "from TarfileFunctions import *\n",
    "\n",
    "from time import perf_counter, sleep\n",
    "import itertools, json, os\n",
    "os.environ['TF_CPP_MIN_LOG_LEVEL'] = '5'\n",
    "\n",
    "import numpy as np\n",
    "import tensorflow as tf\n",
    "assert tf.__version__.startswith('2')\n",
    "\n",
    "from tflite_model_maker import model_spec\n",
    "from tflite_model_maker import image_classifier\n",
    "from tflite_model_maker.config import ExportFormat\n",
    "from tflite_model_maker.config import QuantizationConfig\n",
    "from tflite_model_maker.image_classifier import DataLoader\n",
    "\n",
    "# from tflite_support.metadata_writers import image_classifier\n",
    "# from tflite_support.metadata_writers import writer_utils\n",
    "\n",
    "import matplotlib.pyplot as plt\n",
    "\n",
    "contentPath=os.getcwd()\n",
    "image_path=os.path.join(contentPath, 'images')\n",
    "generatorPath=os.path.join(contentPath, 'DataGenerator')\n",
    "imagePath=join(contentPath, '3b7d7d8a64.jpg')\n",
    "modelPath=join(contentPath, 'Defcon4_mobilenet_v2_FLOAT16.tflite')\n",
    "\n",
    "initialGlobList:list\n",
    "with open(\"initialGlobList.json\", 'r') as f:\n",
    "    initialGlobList = json.load(f)\n",
    "    \n",
    "def listNewFiles(initial=initialGlobList, delete=False):\n",
    "    currentFilesGlob=glob.glob('**')\n",
    "    print('New files...')\n",
    "    if len(initial) == len(currentFilesGlob):\n",
    "        print(f'{C.BIRed}Nothing to see here.\\nNo new files.')\n",
    "    for fil in currentFilesGlob:\n",
    "        if not fil in initial:\n",
    "            if isdir(fil):\n",
    "                print(f'{C.BIBlue}{fil}')\n",
    "                if delete:\n",
    "                    shutil.rmtree(fil)\n",
    "            elif isfile(fil):\n",
    "                print(f'{C.ColorOff}{fil}')\n",
    "                if delete:\n",
    "                    os.remove(fil)\n",
    "listNewFiles()"
   ]
  },
  {
   "cell_type": "code",
   "execution_count": null,
   "id": "6c0cca5b",
   "metadata": {},
   "outputs": [],
   "source": [
    " def testTFLiteModel(thisModelPath, inputImage):\n",
    "    '''thisModelPath: fully qualified path to tflite model.'''\n",
    "    interpreter = tf.lite.Interpreter(model_path=thisModelPath)\n",
    "    input_details = interpreter.get_input_details()\n",
    "    output_details = interpreter.get_output_details()\n",
    "\n",
    "    interpreter.allocate_tensors()\n",
    "    \n",
    "    # new_img = np.copy(inputImage)\n",
    "    new_img = cv2.imread(imagePath, cv2.IMREAD_COLOR)\n",
    "    input_data = np.expand_dims(new_img, axis=0).astype(np.float32)\n",
    "    interpreter.set_tensor(input_details[0]['index'], input_data)\n",
    "\n",
    "    interpreter.invoke()\n",
    "    return interpreter\n",
    "# help(testTFLiteModel)\n",
    "print('ok')\n",
    "\n",
    "print(modelPath)\n",
    "print(imagePath)\n",
    "interpreter=testTFLiteModel(modelPath, image_path)"
   ]
  },
  {
   "cell_type": "code",
   "execution_count": null,
   "id": "bbff9c82",
   "metadata": {},
   "outputs": [],
   "source": [
    "interpreter.get_output_details()"
   ]
  }
 ],
 "metadata": {
  "kernelspec": {
   "display_name": "Python 3 (ipykernel)",
   "language": "python",
   "name": "python3"
  },
  "language_info": {
   "codemirror_mode": {
    "name": "ipython",
    "version": 3
   },
   "file_extension": ".py",
   "mimetype": "text/x-python",
   "name": "python",
   "nbconvert_exporter": "python",
   "pygments_lexer": "ipython3",
   "version": "3.7.12"
  }
 },
 "nbformat": 4,
 "nbformat_minor": 5
}
